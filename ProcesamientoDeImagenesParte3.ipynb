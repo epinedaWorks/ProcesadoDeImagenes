{
 "cells": [
  {
   "cell_type": "markdown",
   "metadata": {},
   "source": [
    "#####  Parte 3 de 4\n",
    "#### Ingeniero en Sistemas: Erick J. Pineda Amézquita  \n",
    "Correo de contacto: epineda.amezquita@gmail.com  \n",
    "github: https://github.com/epinedaWorks/\n",
    "\n",
    "Ejercicios basados en el material de apoyo de DataCamp  \n",
    "https://campus.datacamp.com/courses/image-processing-in-python/  \n",
    "\n",
    "Las imagenes de ejemplo se encuentran en el directorio \"imagenes\", se hace referencia por medio de **./imagenes/**  \n",
    "Si se desea, por facilidad, pueden colocarse en el mismo directorio donde se encuentra el arhivo python o notebook ipynb\n",
    "\n",
    "# Restauración de imágenes\n"
   ]
  },
  {
   "cell_type": "markdown",
   "metadata": {},
   "source": [
    "## Procesamiento de imagenes -- Requisitos\n",
    "\n",
    "Para los siguientes ejemplos, se va a utilizar la herramienta de SCIKIT IMAGE.  \n",
    "Se requiere instalar dicha librería para hacer uso de todas las funciones que provee la herramienta.  \n",
    "Para instalar en Windows se requiere acceder a la consola de comandos en modo Administrador y ejecutar la siguiente instrucción:  \n",
    "\n",
    "\n",
    "**$ pip install scikit-image**  \n",
    "\n",
    "Si no funciona, probar con:   \n",
    "\n",
    "**$ conda install -c conda-forge scikit-image**  \n",
    "\n",
    "No esta de mas realizar un test de los paquetes que se requieren, ya sea antes o después de la instalación de scikit-image por medio de las siguientes instrucciones:  \n",
    "\n",
    "**$ pytest --pyargs skimage**\n",
    "\n",
    "Fuente:  \n",
    "https://scikit-image.org/docs/stable/install.html  \n",
    "  \n",
    "**Como primer paso: Ejecutar las siguientes lineas para saber si todo está correcto, si no funciona, revisar instalación**\n"
   ]
  },
  {
   "cell_type": "code",
   "execution_count": 1,
   "metadata": {},
   "outputs": [],
   "source": [
    "# Import the modules from skimage\n",
    "from skimage import data, color\n",
    "\n",
    "import matplotlib.pyplot as plt\n",
    "import numpy as np\n",
    "import cv2\n"
   ]
  },
  {
   "cell_type": "markdown",
   "metadata": {},
   "source": [
    "## Funciones básicas para visualizar imágenes"
   ]
  },
  {
   "cell_type": "markdown",
   "metadata": {},
   "source": [
    "Comenzamos por importar la librería, si la siguiente instrucción muestra error, será necesario revisar la instalación de scikit image."
   ]
  },
  {
   "cell_type": "markdown",
   "metadata": {},
   "source": [
    "Se crea un metodo que va a leer las imagenes por medio de matplotlib."
   ]
  },
  {
   "cell_type": "code",
   "execution_count": 4,
   "metadata": {},
   "outputs": [],
   "source": [
    "def show_image(image, title='Image', cmap_type='gray'):\n",
    "    plt.imshow(image, cmap=cmap_type)\n",
    "    plt.title(title)\n",
    "    plt.axis('off')\n",
    "    plt.show()\n"
   ]
  },
  {
   "cell_type": "markdown",
   "metadata": {},
   "source": [
    "Se crea una función de comparación para dos imagenes:"
   ]
  },
  {
   "cell_type": "code",
   "execution_count": 4,
   "metadata": {},
   "outputs": [],
   "source": [
    "def plot_comparison(original, filtered, title_filtered):\n",
    "  fig, (ax1, ax2) = plt.subplots(ncols=2, figsize=(8, 6), sharex=True,\n",
    "  sharey=True)\n",
    "  ax1.imshow(original, cmap=plt.cm.gray)\n",
    "  ax1.set_title('original')\n",
    "  ax1.axis('off')\n",
    "  ax2.imshow(filtered, cmap=plt.cm.gray)\n",
    "  ax2.set_title(title_filtered)\n",
    "  ax2.axis('off')\n"
   ]
  },
  {
   "cell_type": "markdown",
   "metadata": {},
   "source": [
    "## Ejemplo 1:\n"
   ]
  }
 ],
 "metadata": {
  "kernelspec": {
   "display_name": "Python 3",
   "language": "python",
   "name": "python3"
  },
  "language_info": {
   "codemirror_mode": {
    "name": "ipython",
    "version": 3
   },
   "file_extension": ".py",
   "mimetype": "text/x-python",
   "name": "python",
   "nbconvert_exporter": "python",
   "pygments_lexer": "ipython3",
   "version": "3.7.1"
  }
 },
 "nbformat": 4,
 "nbformat_minor": 2
}
